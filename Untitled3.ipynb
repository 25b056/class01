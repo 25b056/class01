{
  "nbformat": 4,
  "nbformat_minor": 0,
  "metadata": {
    "colab": {
      "provenance": [],
      "authorship_tag": "ABX9TyMebQy/JxwRgrSWMRIFVl36",
      "include_colab_link": true
    },
    "kernelspec": {
      "name": "python3",
      "display_name": "Python 3"
    },
    "language_info": {
      "name": "python"
    }
  },
  "cells": [
    {
      "cell_type": "markdown",
      "metadata": {
        "id": "view-in-github",
        "colab_type": "text"
      },
      "source": [
        "<a href=\"https://colab.research.google.com/github/25b056/class01/blob/main/Untitled3.ipynb\" target=\"_parent\"><img src=\"https://colab.research.google.com/assets/colab-badge.svg\" alt=\"Open In Colab\"/></a>"
      ]
    },
    {
      "cell_type": "code",
      "source": [
        "\n",
        "# prompt: 초등학생 1학년을 위한 덧셈게임을 만들어줘. 10문제를 풀면 \"고생하셨습니다\"라는 말을 해줘. 만약 다맞았다면, \"축하합니다\"라는 말을 해줘.\n",
        "\n",
        "import random\n",
        "\n",
        "def elementary_addition_game():\n",
        "    correct_answers = 0\n",
        "    for _ in range(10):\n",
        "        num1 = random.randint(1, 10)\n",
        "        num2 = random.randint(1, 10)\n",
        "        correct_answer = num1 + num2\n",
        "\n",
        "        while True:\n",
        "            try:\n",
        "                user_answer = int(input(f\"{num1} + {num2} = ? \"))\n",
        "                break\n",
        "            except ValueError:\n",
        "                print(\"숫자를 입력해주세요.\")\n",
        "\n",
        "        if user_answer == correct_answer:\n",
        "            print(\"정답입니다! 축하합니다!\")\n",
        "            correct_answers += 1\n",
        "        else:\n",
        "            print(f\"오답이에요ㅠㅠ. 정답은 {correct_answer}입니다.\")\n",
        "\n",
        "    print(\"고생하셨습니다!\")\n",
        "    if correct_answers == 10:\n",
        "        print(\"축하합니다!\")\n",
        "\n",
        "if __name__ == \"__main__\":\n",
        "    elementary_addition_game()\n"
      ],
      "metadata": {
        "colab": {
          "base_uri": "https://localhost:8080/"
        },
        "id": "pyMILy8tZLFM",
        "outputId": "f7d2b855-f823-4b18-adc3-1e267b78b075"
      },
      "execution_count": 27,
      "outputs": [
        {
          "output_type": "stream",
          "name": "stdout",
          "text": [
            "4 + 5 = ? 9\n",
            "정답입니다! 축하합니다!\n",
            "5 + 6 = ? 11\n",
            "정답입니다! 축하합니다!\n",
            "4 + 1 = ? 5\n",
            "정답입니다! 축하합니다!\n",
            "2 + 3 = ? 5\n",
            "정답입니다! 축하합니다!\n",
            "8 + 3 = ? 11\n",
            "정답입니다! 축하합니다!\n",
            "3 + 8 = ? 11\n",
            "정답입니다! 축하합니다!\n",
            "7 + 2 = ? 9\n",
            "정답입니다! 축하합니다!\n",
            "1 + 5 = ? 6\n",
            "정답입니다! 축하합니다!\n",
            "10 + 10 = ? 20\n",
            "정답입니다! 축하합니다!\n",
            "7 + 5 = ? 12\n",
            "정답입니다! 축하합니다!\n",
            "고생하셨습니다!\n",
            "축하합니다!\n"
          ]
        }
      ]
    }
  ]
}