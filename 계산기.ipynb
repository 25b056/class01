{
  "nbformat": 4,
  "nbformat_minor": 0,
  "metadata": {
    "colab": {
      "provenance": [],
      "authorship_tag": "ABX9TyOwUDixLuu0Z6VllZ0ctqbt",
      "include_colab_link": true
    },
    "kernelspec": {
      "name": "python3",
      "display_name": "Python 3"
    },
    "language_info": {
      "name": "python"
    }
  },
  "cells": [
    {
      "cell_type": "markdown",
      "metadata": {
        "id": "view-in-github",
        "colab_type": "text"
      },
      "source": [
        "<a href=\"https://colab.research.google.com/github/25b056/class01/blob/main/%EA%B3%84%EC%82%B0%EA%B8%B0.ipynb\" target=\"_parent\"><img src=\"https://colab.research.google.com/assets/colab-badge.svg\" alt=\"Open In Colab\"/></a>"
      ]
    },
    {
      "cell_type": "code",
      "source": [
        "# 더하기와 빼기만 가능한 간단한 계산기\n",
        "\n",
        "def calculator():\n",
        "    print(\"=== 더하기/빼기 계산기 ===\")\n",
        "    print(\"사용법: 숫자 연산자 숫자 (예: 5 + 3 또는 10 - 4)\")\n",
        "    print(\"지원 연산자: +, -\")\n",
        "    print(\"종료하려면 '나가기' 입력\")\n",
        "\n",
        "    while True:\n",
        "        user_input = input(\"계산식 입력: \").strip()\n",
        "\n",
        "        if user_input.lower() == \"나가기\":\n",
        "            print(\"계산기를 종료합니다🚪.\")\n",
        "            break\n",
        "\n",
        "        try:\n",
        "            # 공백 제거\n",
        "            user_input = user_input.replace(\" \", \"\")\n",
        "\n",
        "            if '+' in user_input:\n",
        "                num1, num2 = user_input.split('+')\n",
        "                result = float(num1) + float(num2)\n",
        "                print(f\"결과: {result}\")\n",
        "            elif '-' in user_input:\n",
        "                num1, num2 = user_input.split('-')\n",
        "                result = float(num1) - float(num2)\n",
        "                print(f\"결과: {result}\")\n",
        "            else:\n",
        "                print(\"☠️\")\n",
        "        except ValueError:\n",
        "            print(\"오류: 잘못된 입력입니다. 숫자와 + 또는 - 연산자를 사용하세요.\")\n",
        "\n",
        "# 계산기 실행\n",
        "calculator()\n"
      ],
      "metadata": {
        "colab": {
          "base_uri": "https://localhost:8080/"
        },
        "id": "wZWDAolqVyla",
        "outputId": "27dc0773-333b-42ef-d587-bc4708b2f10e"
      },
      "execution_count": null,
      "outputs": [
        {
          "output_type": "stream",
          "name": "stdout",
          "text": [
            "=== 더하기/빼기 계산기 ===\n",
            "사용법: 숫자 연산자 숫자 (예: 5 + 3 또는 10 - 4)\n",
            "지원 연산자: +, -\n",
            "종료하려면 '나가기' 입력\n",
            "계산식 입력: 4+4\n",
            "결과: 8.0\n"
          ]
        }
      ]
    }
  ]
}